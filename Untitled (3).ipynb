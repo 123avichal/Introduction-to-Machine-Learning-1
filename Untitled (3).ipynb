{
 "cells": [
  {
   "cell_type": "raw",
   "id": "e9a6fcd1-a5f1-45e0-9808-c0799ecd5d53",
   "metadata": {},
   "source": [
    "Q1- Explain the following with an example\n",
    "a) Artificial Intelligence\n",
    "the ability of a digital computer or computer-controlled robot to perform tasks commonly associated with intelligent beings. The term is frequently applied to the project of developing systems endowed with the intellectual processes characteristic of humans, such as the ability to reason, discover meaning, generalize, or learn from past experience. Since the development of the digital computer in the 1940s, it has been demonstrated that computers can be programmed to carry out very complex tasks—such as discovering proofs for mathematical theorems or playing chess—with great proficiency. Still, despite continuing advances in computer processing speed and memory capacity, there are as yet no programs that can match full human flexibility over wider domains or in tasks requiring much everyday knowledge. On the other hand, some programs have attained the performance levels of human experts and professionals in performing certain specific tasks, so that artificial intelligence in this limited sense is found in applications as diverse as medical diagnosis, computer search engines, voice or handwriting recognition, and chatbots.\n",
    "\n",
    "b) Maching learnig,\n",
    "Machine learning is a branch of artificial intelligence (AI) and computer science which focuses on the use of data and algorithms to imitate the way that humans learn, gradually improving its accuracy.\n",
    "\n",
    "IBM has a rich history with machine learning. One of its own, Arthur Samuel, is credited for coining the term, “machine learning” with his research (link resides outside ibm.com) around the game of checkers. Robert Nealey, the self-proclaimed checkers master, played the game on an IBM 7094 computer in 1962, and he lost to the computer. Compared to what can be done today, this feat seems trivial, but it’s considered a major milestone in the field of artificial intelligence.\n",
    "\n",
    "Over the last couple of decades, the technological advances in storage and processing power have enabled some innovative products based on machine learning, such as Netflix’s recommendation engine and self-driving cars.\n",
    "\n",
    "Machine learning is an important component of the growing field of data science. Through the use of statistical methods, algorithms are trained to make classifications or predictions, and to uncover key insights in data mining projects. These insights subsequently drive decision making within applications and businesses, ideally impacting key growth metrics. As big data continues to expand and grow, the market demand for data scientists will increase. They will be required to help identify the most relevant business questions and the data to answer them.\n",
    "\n",
    "c) Deep Learning\n",
    "Deep learning is a subset of machine learning, which is essentially a neural network with three or more layers. These neural networks attempt to simulate the behavior of the human brain—albeit far from matching its ability—allowing it to “learn” from large amounts of data."
   ]
  },
  {
   "cell_type": "markdown",
   "id": "a07f44c7-216b-41d2-b705-16d100d32ee4",
   "metadata": {},
   "source": [
    "Q2- What is supervised learning? List some examples of supervised learning."
   ]
  },
  {
   "cell_type": "markdown",
   "id": "032321c1-4f38-4a70-a734-1a956270fba6",
   "metadata": {},
   "source": [
    "Supervised learning is a type of machine learning in which a computer algorithm learns to make predictions or decisions based on labeled data. Labeled data is made up of previously known input variables (also known as features) and output variables (also known as labels). By analyzing patterns and relationships between input and output variables in labeled data, the algorithm learns to make predictions. Image and speech recognition, recommendation systems, and fraud detection are all examples of how supervised learning is used. The examples below will help explain what supervised learning is.\n",
    "Email Filtering\n",
    "Credit Scoring\n",
    "Voice Recognition"
   ]
  },
  {
   "cell_type": "markdown",
   "id": "42a86424-8f21-4cb0-8057-9389404b41e4",
   "metadata": {},
   "source": [
    "Q3- What is unsupervised learning? List some examples of unsupervised learning."
   ]
  },
  {
   "cell_type": "markdown",
   "id": "13acc364-0f45-4ff4-8da0-58b7e1b233e3",
   "metadata": {},
   "source": [
    "Unsupervised learning is when it can provide a set of unlabelled data, which it is required to analyze and find patterns inside. The examples are dimension reduction and clustering. The training is supported to the machine with the group of data that has not been labeled, classified, or categorized, and the algorithm required to facilitate on that data without some supervision. The objective of unsupervised learning is to restructure the input record into new features or a set of objects with same patterns.\n",
    "\n",
    "Cluster analysis is used to form groups or clusters of the same records depending on various measures made on these records. The key design is to define the clusters in ways that can be useful for the objective of the analysis. This data has been used in several areas, such as astronomy, archaeology, medicine, chemistry, education, psychology, linguistics, and sociology.\n",
    "\n",
    "Organize computing clusters − The geographic areas of servers is determined on the basis of clustering of web requests received from a specific area of the world. The local server will include only the data frequently created by people of that region.\n",
    "\n",
    "Social network analysis − Social network analysis is conducted to make clusters of friends depends on the frequency of connection between them. Such analysis reveals the links between the users of some social networking website.\n",
    "\n",
    "Market segmentation − Sales organizations can cluster or group their users into multiple segments on the basis of their prior billed items. For instance, a big superstore can required to send an SMS about grocery elements specifically to its users of grocery rather than sending that SMS to all its users."
   ]
  },
  {
   "cell_type": "markdown",
   "id": "9c20644e-a7ca-4256-980e-f6ed86e127cb",
   "metadata": {},
   "source": [
    "Q5- What are the main diffKrences between supervised, unsupervised, and semi-supervised learning?"
   ]
  },
  {
   "cell_type": "markdown",
   "id": "59e118f3-edf0-4f47-b2a9-7d1cdbd10af2",
   "metadata": {},
   "source": [
    "Supervised Learning\n",
    "\n",
    "Labeled dataset is a set of data with predictors (input variables) and output (response/target variables). Supervised learning is where you have such a dataset, and you are searching for the best representative function that link or map predictors to relevant target. \n",
    "\n",
    "Unsupervised Learning\n",
    "\n",
    "When we have unlabeled data, we are handling unsupervised learning problem. We are clueless whether we are clustering the data points/ tuples correctly. Therefore, challenge for unsupervised learning will be deciding point to stop learning and evaluation of model built.\n",
    "\n",
    "semi-Supervised Learning\n",
    "\n",
    "This kind of learning lies in between supervised and unsupervised. It has mixture of labeled and unlabeled data with larger proportion for latter. Data available today is mostly of this form, as it is costly, time consuming, and requires expertise to get a huge data labeled. "
   ]
  },
  {
   "cell_type": "markdown",
   "id": "db7ad05d-dbb6-40ae-b09d-ac0e989f3f76",
   "metadata": {},
   "source": [
    "Q6- What is train, test and validation split? Explain the importance of each term."
   ]
  },
  {
   "cell_type": "markdown",
   "id": "8edfb283-2cf6-4f19-b768-4820b4709884",
   "metadata": {},
   "source": [
    "Training data is the set of the data on which the actual training takes place.\n",
    "Validation split helps to improve the model performance by fine-tuning the model after each epoch.\n",
    "The test set informs us about the final accuracy of the model after completing the training phase."
   ]
  },
  {
   "cell_type": "markdown",
   "id": "1b978eda-a28a-4c69-beff-5f0cbca25b55",
   "metadata": {},
   "source": [
    "Q7- How can unsupKrvisKd learning be used in anomaly detection?"
   ]
  },
  {
   "cell_type": "markdown",
   "id": "bd63ff18-fff7-4f83-9827-58d6155e39c0",
   "metadata": {},
   "source": [
    "Unsupervised machine learning is one of the main branches of machine learning and it has a multitude of applications. One of the most important is anomaly detection: identifying normal patterns within a data sample and then detecting outliers based on the natural characteristics of the data set itself."
   ]
  },
  {
   "cell_type": "markdown",
   "id": "4451c5ff-3734-461f-b746-ae9059b32c4a",
   "metadata": {},
   "source": [
    "Q8- List down some commonly used supervised learning algorithms and unsupervisKd learning\n",
    "algorithms."
   ]
  },
  {
   "cell_type": "code",
   "execution_count": null,
   "id": "60188313-1f95-4339-b7a8-5d780cea0c1a",
   "metadata": {},
   "outputs": [],
   "source": []
  }
 ],
 "metadata": {
  "kernelspec": {
   "display_name": "Python 3 (ipykernel)",
   "language": "python",
   "name": "python3"
  },
  "language_info": {
   "codemirror_mode": {
    "name": "ipython",
    "version": 3
   },
   "file_extension": ".py",
   "mimetype": "text/x-python",
   "name": "python",
   "nbconvert_exporter": "python",
   "pygments_lexer": "ipython3",
   "version": "3.10.8"
  }
 },
 "nbformat": 4,
 "nbformat_minor": 5
}
